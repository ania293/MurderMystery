{
 "cells": [
  {
   "cell_type": "markdown",
   "metadata": {},
   "source": [
    "There's been a Murder in SQL City!!\n",
    "\n",
    "The detective gave us the crime scene report, but we somehow lost it. We vaguely remember that the crime was a ​**murder**​ that occurred sometime on **​15 Jan 2018​** and that it took place in **​SQL City**​. \n",
    "\n",
    "Let's use our Murder Mystery database to try to solve it!!!"
   ]
  },
  {
   "cell_type": "code",
   "execution_count": 25,
   "metadata": {},
   "outputs": [],
   "source": [
    "# import libraries\n",
    "import pandas as pd\n",
    "import sqlite3 as sql"
   ]
  },
  {
   "cell_type": "code",
   "execution_count": 26,
   "metadata": {},
   "outputs": [],
   "source": [
    "# setting up connection to the database\n",
    "con = sql.connect('database/sql-murder-mystery.db')"
   ]
  },
  {
   "cell_type": "markdown",
   "metadata": {},
   "source": [
    "Let's search through the crime scene reports using all information available:\n",
    "* what:   murder\n",
    "* when:   15 January 2018\n",
    "* where:  SQL City "
   ]
  },
  {
   "cell_type": "code",
   "execution_count": 27,
   "metadata": {},
   "outputs": [
    {
     "data": {
      "text/html": [
       "<div>\n",
       "<style scoped>\n",
       "    .dataframe tbody tr th:only-of-type {\n",
       "        vertical-align: middle;\n",
       "    }\n",
       "\n",
       "    .dataframe tbody tr th {\n",
       "        vertical-align: top;\n",
       "    }\n",
       "\n",
       "    .dataframe thead th {\n",
       "        text-align: right;\n",
       "    }\n",
       "</style>\n",
       "<table border=\"1\" class=\"dataframe\">\n",
       "  <thead>\n",
       "    <tr style=\"text-align: right;\">\n",
       "      <th></th>\n",
       "      <th>date</th>\n",
       "      <th>type</th>\n",
       "      <th>description</th>\n",
       "      <th>city</th>\n",
       "    </tr>\n",
       "  </thead>\n",
       "  <tbody>\n",
       "    <tr>\n",
       "      <th>0</th>\n",
       "      <td>20180115</td>\n",
       "      <td>murder</td>\n",
       "      <td>Security footage shows that there were 2 witnesses. The first witness lives at the last house on \"Northwestern Dr\". The second witness, named Annabel, lives somewhere on \"Franklin Ave\".</td>\n",
       "      <td>SQL City</td>\n",
       "    </tr>\n",
       "  </tbody>\n",
       "</table>\n",
       "</div>"
      ],
      "text/plain": [
       "       date    type  \\\n",
       "0  20180115  murder   \n",
       "\n",
       "                                                                                                                                                                                 description  \\\n",
       "0  Security footage shows that there were 2 witnesses. The first witness lives at the last house on \"Northwestern Dr\". The second witness, named Annabel, lives somewhere on \"Franklin Ave\".   \n",
       "\n",
       "       city  \n",
       "0  SQL City  "
      ]
     },
     "execution_count": 27,
     "metadata": {},
     "output_type": "execute_result"
    }
   ],
   "source": [
    "# Checking crime scene reports\n",
    "query_1 = '''\n",
    "SELECT *\n",
    "FROM crime_scene_report\n",
    "WHERE city = \"SQL City\" AND date = \"20180115\" AND type = \"murder\";\n",
    "'''\n",
    "\n",
    "#seting the dataframe width to max\n",
    "pd.set_option('display.max_colwidth', None)\n",
    "\n",
    "#running our query\n",
    "SQL_city_crime = pd.read_sql_query(query_1, con)\n",
    "SQL_city_crime"
   ]
  },
  {
   "cell_type": "markdown",
   "metadata": {},
   "source": [
    "Based on the crime note, there were two witnesses. Let’s look at their interview statements.\n",
    "\n",
    "    Witness 1\n",
    "\n",
    "\n"
   ]
  },
  {
   "cell_type": "code",
   "execution_count": 28,
   "metadata": {},
   "outputs": [
    {
     "data": {
      "text/html": [
       "<div>\n",
       "<style scoped>\n",
       "    .dataframe tbody tr th:only-of-type {\n",
       "        vertical-align: middle;\n",
       "    }\n",
       "\n",
       "    .dataframe tbody tr th {\n",
       "        vertical-align: top;\n",
       "    }\n",
       "\n",
       "    .dataframe thead th {\n",
       "        text-align: right;\n",
       "    }\n",
       "</style>\n",
       "<table border=\"1\" class=\"dataframe\">\n",
       "  <thead>\n",
       "    <tr style=\"text-align: right;\">\n",
       "      <th></th>\n",
       "      <th>id</th>\n",
       "      <th>name</th>\n",
       "      <th>address_street_name</th>\n",
       "      <th>address_number</th>\n",
       "      <th>transcript</th>\n",
       "    </tr>\n",
       "  </thead>\n",
       "  <tbody>\n",
       "    <tr>\n",
       "      <th>0</th>\n",
       "      <td>14887</td>\n",
       "      <td>Morty Schapiro</td>\n",
       "      <td>Northwestern Dr</td>\n",
       "      <td>4919</td>\n",
       "      <td>I heard a gunshot and then saw a man run out. He had a \"Get Fit Now Gym\" bag. The membership number on the bag started with \"48Z\". Only gold members have those bags. The man got into a car with a plate that included \"H42W\".</td>\n",
       "    </tr>\n",
       "  </tbody>\n",
       "</table>\n",
       "</div>"
      ],
      "text/plain": [
       "      id            name address_street_name  address_number  \\\n",
       "0  14887  Morty Schapiro     Northwestern Dr            4919   \n",
       "\n",
       "                                                                                                                                                                                                                        transcript  \n",
       "0  I heard a gunshot and then saw a man run out. He had a \"Get Fit Now Gym\" bag. The membership number on the bag started with \"48Z\". Only gold members have those bags. The man got into a car with a plate that included \"H42W\".  "
      ]
     },
     "execution_count": 28,
     "metadata": {},
     "output_type": "execute_result"
    }
   ],
   "source": [
    "witness_1 = '''\n",
    "SELECT id, name, address_street_name, address_number, transcript\n",
    "FROM person\n",
    "INNER JOIN interview\n",
    "ON person.id = interview.person_id\n",
    "WHERE address_street_name == \"Northwestern Dr\" AND address_number = (SELECT MAX(address_number) FROM person WHERE address_street_name = \"Northwestern Dr\");\n",
    "'''\n",
    "\n",
    "df = pd.read_sql_query(witness_1, con)\n",
    "df"
   ]
  },
  {
   "cell_type": "markdown",
   "metadata": {},
   "source": [
    "\n",
    "    Witness 2"
   ]
  },
  {
   "cell_type": "code",
   "execution_count": 29,
   "metadata": {},
   "outputs": [
    {
     "data": {
      "text/html": [
       "<div>\n",
       "<style scoped>\n",
       "    .dataframe tbody tr th:only-of-type {\n",
       "        vertical-align: middle;\n",
       "    }\n",
       "\n",
       "    .dataframe tbody tr th {\n",
       "        vertical-align: top;\n",
       "    }\n",
       "\n",
       "    .dataframe thead th {\n",
       "        text-align: right;\n",
       "    }\n",
       "</style>\n",
       "<table border=\"1\" class=\"dataframe\">\n",
       "  <thead>\n",
       "    <tr style=\"text-align: right;\">\n",
       "      <th></th>\n",
       "      <th>id</th>\n",
       "      <th>name</th>\n",
       "      <th>address_street_name</th>\n",
       "      <th>address_number</th>\n",
       "      <th>transcript</th>\n",
       "    </tr>\n",
       "  </thead>\n",
       "  <tbody>\n",
       "    <tr>\n",
       "      <th>0</th>\n",
       "      <td>16371</td>\n",
       "      <td>Annabel Miller</td>\n",
       "      <td>Franklin Ave</td>\n",
       "      <td>103</td>\n",
       "      <td>I saw the murder happen, and I recognized the killer from my gym when I was working out last week on January the 9th.</td>\n",
       "    </tr>\n",
       "  </tbody>\n",
       "</table>\n",
       "</div>"
      ],
      "text/plain": [
       "      id            name address_street_name  address_number  \\\n",
       "0  16371  Annabel Miller        Franklin Ave             103   \n",
       "\n",
       "                                                                                                              transcript  \n",
       "0  I saw the murder happen, and I recognized the killer from my gym when I was working out last week on January the 9th.  "
      ]
     },
     "execution_count": 29,
     "metadata": {},
     "output_type": "execute_result"
    }
   ],
   "source": [
    "witness_2 = '''\n",
    "SELECT id, name, address_street_name, address_number, transcript\n",
    "FROM person\n",
    "INNER JOIN interview\n",
    "on person.id = interview.person_id\n",
    "WHERE name LIKE \"%Annabel%\" AND address_street_name = \"Franklin Ave\";\n",
    "'''\n",
    "\n",
    "w2 = pd.read_sql_query(witness_2, con)\n",
    "w2"
   ]
  },
  {
   "cell_type": "markdown",
   "metadata": {},
   "source": [
    "The second witness saw the murderer, and we'll examine her statement first to identify potential suspects."
   ]
  },
  {
   "cell_type": "code",
   "execution_count": 30,
   "metadata": {},
   "outputs": [
    {
     "data": {
      "text/html": [
       "<div>\n",
       "<style scoped>\n",
       "    .dataframe tbody tr th:only-of-type {\n",
       "        vertical-align: middle;\n",
       "    }\n",
       "\n",
       "    .dataframe tbody tr th {\n",
       "        vertical-align: top;\n",
       "    }\n",
       "\n",
       "    .dataframe thead th {\n",
       "        text-align: right;\n",
       "    }\n",
       "</style>\n",
       "<table border=\"1\" class=\"dataframe\">\n",
       "  <thead>\n",
       "    <tr style=\"text-align: right;\">\n",
       "      <th></th>\n",
       "      <th>id</th>\n",
       "      <th>person_id</th>\n",
       "      <th>name</th>\n",
       "      <th>membership_start_date</th>\n",
       "      <th>membership_status</th>\n",
       "      <th>check_in_date</th>\n",
       "      <th>check_in_time</th>\n",
       "      <th>check_out_time</th>\n",
       "    </tr>\n",
       "  </thead>\n",
       "  <tbody>\n",
       "    <tr>\n",
       "      <th>0</th>\n",
       "      <td>48Z7A</td>\n",
       "      <td>28819</td>\n",
       "      <td>Joe Germuska</td>\n",
       "      <td>20160305</td>\n",
       "      <td>gold</td>\n",
       "      <td>20180109</td>\n",
       "      <td>1600</td>\n",
       "      <td>1730</td>\n",
       "    </tr>\n",
       "    <tr>\n",
       "      <th>1</th>\n",
       "      <td>48Z55</td>\n",
       "      <td>67318</td>\n",
       "      <td>Jeremy Bowers</td>\n",
       "      <td>20160101</td>\n",
       "      <td>gold</td>\n",
       "      <td>20180109</td>\n",
       "      <td>1530</td>\n",
       "      <td>1700</td>\n",
       "    </tr>\n",
       "    <tr>\n",
       "      <th>2</th>\n",
       "      <td>90081</td>\n",
       "      <td>16371</td>\n",
       "      <td>Annabel Miller</td>\n",
       "      <td>20160208</td>\n",
       "      <td>gold</td>\n",
       "      <td>20180109</td>\n",
       "      <td>1600</td>\n",
       "      <td>1700</td>\n",
       "    </tr>\n",
       "  </tbody>\n",
       "</table>\n",
       "</div>"
      ],
      "text/plain": [
       "      id  person_id            name  membership_start_date membership_status  \\\n",
       "0  48Z7A      28819    Joe Germuska               20160305              gold   \n",
       "1  48Z55      67318   Jeremy Bowers               20160101              gold   \n",
       "2  90081      16371  Annabel Miller               20160208              gold   \n",
       "\n",
       "   check_in_date  check_in_time  check_out_time  \n",
       "0       20180109           1600            1730  \n",
       "1       20180109           1530            1700  \n",
       "2       20180109           1600            1700  "
      ]
     },
     "execution_count": 30,
     "metadata": {},
     "output_type": "execute_result"
    }
   ],
   "source": [
    "suspects_q = '''\n",
    "WITH ann_gym_times AS (\n",
    "  SELECT\n",
    "    ci.check_in_time  AS ann_in,\n",
    "    ci.check_out_time AS ann_out\n",
    "  FROM get_fit_now_check_in ci\n",
    "  INNER JOIN get_fit_now_member mem\n",
    "    ON ci.membership_id = mem.id\n",
    "  WHERE ci.check_in_date = '20180109'\n",
    "    AND mem.name = 'Annabel Miller'\n",
    ")\n",
    "SELECT mem.*, check_in_date, check_in_time, check_out_time\n",
    "FROM get_fit_now_check_in ci\n",
    "JOIN get_fit_now_member mem\n",
    "  ON ci.membership_id = mem.id\n",
    "CROSS JOIN ann_gym_times at\n",
    "WHERE ci.check_in_date = '20180109'\n",
    "  AND ci.check_out_time >= at.ann_in\n",
    "  AND ci.check_in_time  <= at.ann_out;\n",
    "'''\n",
    "\n",
    "suspects = pd.read_sql_query(suspects_q, con)\n",
    "suspects"
   ]
  },
  {
   "cell_type": "markdown",
   "metadata": {},
   "source": [
    "Two other people were present in the gym when our witness (Annabel Miller) was there on 9 January 2018. Let’s examine the first witness’s statement for confirmation of the suspect."
   ]
  },
  {
   "cell_type": "code",
   "execution_count": 31,
   "metadata": {},
   "outputs": [
    {
     "data": {
      "text/html": [
       "<div>\n",
       "<style scoped>\n",
       "    .dataframe tbody tr th:only-of-type {\n",
       "        vertical-align: middle;\n",
       "    }\n",
       "\n",
       "    .dataframe tbody tr th {\n",
       "        vertical-align: top;\n",
       "    }\n",
       "\n",
       "    .dataframe thead th {\n",
       "        text-align: right;\n",
       "    }\n",
       "</style>\n",
       "<table border=\"1\" class=\"dataframe\">\n",
       "  <thead>\n",
       "    <tr style=\"text-align: right;\">\n",
       "      <th></th>\n",
       "      <th>id</th>\n",
       "      <th>name</th>\n",
       "      <th>age</th>\n",
       "      <th>height</th>\n",
       "      <th>eye_color</th>\n",
       "      <th>hair_color</th>\n",
       "      <th>gender</th>\n",
       "      <th>plate_number</th>\n",
       "      <th>car_make</th>\n",
       "      <th>car_model</th>\n",
       "    </tr>\n",
       "  </thead>\n",
       "  <tbody>\n",
       "    <tr>\n",
       "      <th>0</th>\n",
       "      <td>48Z55</td>\n",
       "      <td>Jeremy Bowers</td>\n",
       "      <td>30</td>\n",
       "      <td>70</td>\n",
       "      <td>brown</td>\n",
       "      <td>brown</td>\n",
       "      <td>male</td>\n",
       "      <td>0H42W2</td>\n",
       "      <td>Chevrolet</td>\n",
       "      <td>Spark LS</td>\n",
       "    </tr>\n",
       "  </tbody>\n",
       "</table>\n",
       "</div>"
      ],
      "text/plain": [
       "      id           name  age  height eye_color hair_color gender plate_number  \\\n",
       "0  48Z55  Jeremy Bowers   30      70     brown      brown   male       0H42W2   \n",
       "\n",
       "    car_make car_model  \n",
       "0  Chevrolet  Spark LS  "
      ]
     },
     "execution_count": 31,
     "metadata": {},
     "output_type": "execute_result"
    }
   ],
   "source": [
    "suspect_q = '''\n",
    "SELECT m.id, p.name, age, height, eye_color, hair_color, gender, plate_number, car_make, car_model\n",
    "FROM get_fit_now_member AS m\n",
    "JOIN person AS p\n",
    "  ON m.person_id = p.id\n",
    "JOIN drivers_license AS d\n",
    "  ON p.license_id = d.id\n",
    "WHERE m.id LIKE '%48Z%'\n",
    "  AND m.membership_status = 'gold'\n",
    "  AND d.plate_number LIKE '%H42W%';\n",
    "'''\n",
    "\n",
    "suspect = pd.read_sql_query(suspect_q, con)\n",
    "suspect"
   ]
  },
  {
   "cell_type": "markdown",
   "metadata": {},
   "source": [
    "Our primary suspect has been identified as Jeremy Bowers.\n",
    "But this is only the beginning…"
   ]
  }
 ],
 "metadata": {
  "kernelspec": {
   "display_name": "python3.8",
   "language": "python",
   "name": "python3"
  },
  "language_info": {
   "codemirror_mode": {
    "name": "ipython",
    "version": 3
   },
   "file_extension": ".py",
   "mimetype": "text/x-python",
   "name": "python",
   "nbconvert_exporter": "python",
   "pygments_lexer": "ipython3",
   "version": "3.11.0"
  },
  "orig_nbformat": 4
 },
 "nbformat": 4,
 "nbformat_minor": 2
}
